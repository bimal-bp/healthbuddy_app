{
 "cells": [
  {
   "cell_type": "code",
   "execution_count": 1,
   "metadata": {},
   "outputs": [
    {
     "name": "stdout",
     "output_type": "stream",
     "text": [
      "Vitamin: Vitamin B12\n",
      "Diseases: Anemia, Fatigue, Nerve damage\n",
      "Precautions: Regular check-ups, Avoid alcohol, Consider supplements if vegetarian\n",
      "Foods to Eat: Meat, Fish, Eggs, Dairy products, Fortified cereals\n"
     ]
    }
   ],
   "source": [
    "import pickle\n",
    "\n",
    "# Load the dataset from the .pkl file\n",
    "file_path = \"vitamin_deficiencies.pkl\"\n",
    "with open(file_path, \"rb\") as f:\n",
    "    vitamin_data = pickle.load(f)\n",
    "\n",
    "# Function to get information based on input\n",
    "def get_vitamin_info(vitamin_name):\n",
    "    vitamin_name = vitamin_name.strip().title()  # Standardize input\n",
    "    if vitamin_name in vitamin_data:\n",
    "        info = vitamin_data[vitamin_name]\n",
    "        result = (\n",
    "            f\"Vitamin: {vitamin_name}\\n\"\n",
    "            f\"Diseases: {', '.join(info['Diseases'])}\\n\"\n",
    "            f\"Precautions: {', '.join(info['Precautions'])}\\n\"\n",
    "            f\"Foods to Eat: {', '.join(info['Foods to Eat'])}\"\n",
    "        )\n",
    "    else:\n",
    "        result = f\"No information found for '{vitamin_name}'. Please check the input.\"\n",
    "    return result\n",
    "\n",
    "# Test the function\n",
    "if __name__ == \"__main__\":\n",
    "    # Example input: testing for \"Vitamin A\"\n",
    "    user_input = \"Vitamin B12\"  # Directly assigning the input for testing\n",
    "    print(get_vitamin_info(user_input))\n"
   ]
  }
 ],
 "metadata": {
  "kernelspec": {
   "display_name": "Python 3",
   "language": "python",
   "name": "python3"
  },
  "language_info": {
   "codemirror_mode": {
    "name": "ipython",
    "version": 3
   },
   "file_extension": ".py",
   "mimetype": "text/x-python",
   "name": "python",
   "nbconvert_exporter": "python",
   "pygments_lexer": "ipython3",
   "version": "3.10.11"
  }
 },
 "nbformat": 4,
 "nbformat_minor": 2
}
